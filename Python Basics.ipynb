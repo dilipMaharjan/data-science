{
 "cells": [
  {
   "cell_type": "code",
   "execution_count": 1,
   "id": "f5a4ae4b",
   "metadata": {},
   "outputs": [
    {
     "name": "stdout",
     "output_type": "stream",
     "text": [
      "Hello Python\n"
     ]
    }
   ],
   "source": [
    "print(\"Hello Python\")"
   ]
  },
  {
   "cell_type": "markdown",
   "id": "eecbf192",
   "metadata": {},
   "source": [
    "# Variables"
   ]
  },
  {
   "cell_type": "code",
   "execution_count": 5,
   "id": "855f1fc3",
   "metadata": {},
   "outputs": [
    {
     "name": "stdout",
     "output_type": "stream",
     "text": [
      "4 Philip\n"
     ]
    }
   ],
   "source": [
    "#Variable names begins with _ or letter\n",
    "#Alphanumeric and underscores are allowed \n",
    "\n",
    "numOfApples=4\n",
    "name='Philip'\n",
    "print(numOfApples,name)"
   ]
  },
  {
   "cell_type": "markdown",
   "id": "17286c6f",
   "metadata": {},
   "source": [
    "# Arithmetic operations"
   ]
  },
  {
   "cell_type": "code",
   "execution_count": 6,
   "id": "9e423c19",
   "metadata": {},
   "outputs": [
    {
     "name": "stdout",
     "output_type": "stream",
     "text": [
      "16\n",
      "4\n",
      "60\n",
      "1.6666666666666667\n",
      "4\n"
     ]
    }
   ],
   "source": [
    "a=10\n",
    "b=6\n",
    "print(a+b)\n",
    "print(a-b)\n",
    "print(a*b)\n",
    "print(a/b)\n",
    "print(a%b)"
   ]
  },
  {
   "cell_type": "markdown",
   "id": "5cb9bc2f",
   "metadata": {},
   "source": [
    "# User input "
   ]
  },
  {
   "cell_type": "code",
   "execution_count": null,
   "id": "d6d9897e",
   "metadata": {},
   "outputs": [],
   "source": [
    "name=input(\"What is your name\")\n",
    "print('Name',name)"
   ]
  },
  {
   "cell_type": "code",
   "execution_count": null,
   "id": "b951dc44",
   "metadata": {},
   "outputs": [],
   "source": []
  },
  {
   "cell_type": "code",
   "execution_count": null,
   "id": "eddab364",
   "metadata": {},
   "outputs": [],
   "source": []
  },
  {
   "cell_type": "code",
   "execution_count": null,
   "id": "5267aa6f",
   "metadata": {},
   "outputs": [],
   "source": []
  }
 ],
 "metadata": {
  "kernelspec": {
   "display_name": "Python 3 (ipykernel)",
   "language": "python",
   "name": "python3"
  },
  "language_info": {
   "codemirror_mode": {
    "name": "ipython",
    "version": 3
   },
   "file_extension": ".py",
   "mimetype": "text/x-python",
   "name": "python",
   "nbconvert_exporter": "python",
   "pygments_lexer": "ipython3",
   "version": "3.9.13"
  }
 },
 "nbformat": 4,
 "nbformat_minor": 5
}
