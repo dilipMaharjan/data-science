{
 "cells": [
  {
   "cell_type": "markdown",
   "id": "63993a1f",
   "metadata": {},
   "source": [
    "# Creating 1D and 2D arrays "
   ]
  },
  {
   "cell_type": "code",
   "execution_count": 5,
   "id": "f4837bcd",
   "metadata": {},
   "outputs": [
    {
     "name": "stdout",
     "output_type": "stream",
     "text": [
      "One dimensional array [1 2 3 4 5]\n"
     ]
    }
   ],
   "source": [
    "# Referencing the youtube video https://www.youtube.com/watch?v=QUT1VHiLmmI&ab_channel=freeCodeCamp.org\n",
    "\n",
    "import numpy as np\n",
    "\n",
    "numbers=[1,2,3,4,5]\n",
    "numbers=np.array(numbers)\n",
    "print('One dimensional array', numbers)\n"
   ]
  },
  {
   "cell_type": "code",
   "execution_count": 8,
   "id": "611d501f",
   "metadata": {},
   "outputs": [
    {
     "name": "stdout",
     "output_type": "stream",
     "text": [
      "[list([1, 2, 3, 4, 5]) list(['hello', 'learners'])]\n"
     ]
    }
   ],
   "source": [
    "numbers=[1,2,3,4,5],[\"hello\",\"learners\"]\n",
    "numbers=np.array(numbers,dtype=object)\n",
    "print(numbers)"
   ]
  },
  {
   "cell_type": "code",
   "execution_count": 10,
   "id": "d1e4160a",
   "metadata": {},
   "outputs": [
    {
     "name": "stdout",
     "output_type": "stream",
     "text": [
      "[[1. 0. 0.]\n",
      " [0. 1. 0.]\n",
      " [0. 0. 1.]]\n"
     ]
    }
   ],
   "source": [
    "eyeMat=np.eye(3)\n",
    "print(eyeMat)"
   ]
  },
  {
   "cell_type": "code",
   "execution_count": 16,
   "id": "e8289e03",
   "metadata": {},
   "outputs": [
    {
     "name": "stdout",
     "output_type": "stream",
     "text": [
      "[69 33 42 79 16 61 45 24 78 74]\n"
     ]
    }
   ],
   "source": [
    "randomInt=np.random.randint(1,100,10)\n",
    "print(randomInt)"
   ]
  },
  {
   "cell_type": "code",
   "execution_count": 21,
   "id": "825972f8",
   "metadata": {},
   "outputs": [
    {
     "name": "stdout",
     "output_type": "stream",
     "text": [
      "Last element of the array is simon\n",
      "Reversed :  ['simon' 'mathew' 'john']\n"
     ]
    }
   ],
   "source": [
    "names=np.array(['john','mathew','simon'])\n",
    "print('Last element of the array is',names[-1])\n",
    "print('Reversed : ',names[::-1])"
   ]
  },
  {
   "cell_type": "code",
   "execution_count": 22,
   "id": "aaf3f6fc",
   "metadata": {},
   "outputs": [
    {
     "name": "stdout",
     "output_type": "stream",
     "text": [
      "Second Row, thrid element :  2\n"
     ]
    }
   ],
   "source": [
    "numbers=np.array([[5,8,3],[3,1,2],[5,7,8]])\n",
    "print('Second Row, thrid element : ', numbers[1,2])"
   ]
  },
  {
   "cell_type": "code",
   "execution_count": 24,
   "id": "bf8afed9",
   "metadata": {},
   "outputs": [
    {
     "name": "stdout",
     "output_type": "stream",
     "text": [
      "Numbers in 5X5 matrix form  [[ 1  2  3  4  5]\n",
      " [ 6  7  8  9 10]\n",
      " [11 12 13 14 15]\n",
      " [16 17 18 19 20]\n",
      " [21 22 23 24 25]]\n"
     ]
    }
   ],
   "source": [
    "numbers= np.arange(1,26).reshape(5,5)\n",
    "print(\"Numbers in 5X5 matrix form \",numbers)"
   ]
  },
  {
   "cell_type": "markdown",
   "id": "23b6df4e",
   "metadata": {},
   "source": [
    "# The Basics \n",
    " #https://youtu.be/QUT1VHiLmmI"
   ]
  },
  {
   "cell_type": "code",
   "execution_count": 33,
   "id": "51c0d7eb",
   "metadata": {},
   "outputs": [
    {
     "name": "stdout",
     "output_type": "stream",
     "text": [
      "[1 2 3 4 5 6]\n",
      "[[1 2 3 4]\n",
      " [2 3 4 5]]\n"
     ]
    },
    {
     "data": {
      "text/plain": [
       "48"
      ]
     },
     "execution_count": 33,
     "metadata": {},
     "output_type": "execute_result"
    }
   ],
   "source": [
    "#One dimentional array \n",
    "a=np.array([1,2,3,4,5,6])\n",
    "print(a)\n",
    "\n",
    "# Two dimentional array\n",
    "\n",
    "b=np.array([[1,2,3,4],[2,3,4,5]])\n",
    "print(b)\n",
    "\n",
    "#dimention of array\n",
    "a.ndim\n",
    "\n",
    "#Shape \n",
    "b.shape\n",
    "\n",
    "#type\n",
    "a.dtype\n",
    "\n",
    "#size\n",
    "a.itemsize\n",
    "\n",
    "#total size\n",
    "a.nbytes"
   ]
  },
  {
   "cell_type": "code",
   "execution_count": 51,
   "id": "b1720ff0",
   "metadata": {},
   "outputs": [
    {
     "name": "stdout",
     "output_type": "stream",
     "text": [
      "[[1 2 3 4 5 6 7 8]\n",
      " [5 6 7 8 9 0 4 5]]\n"
     ]
    },
    {
     "data": {
      "text/plain": [
       "array([2, 4, 6])"
      ]
     },
     "execution_count": 51,
     "metadata": {},
     "output_type": "execute_result"
    }
   ],
   "source": [
    "\n",
    "a=np.array([[1,2,3,4,5,6,7,8],[5,6,7,8,9,0,4,5]])\n",
    "print(a)\n",
    "\n",
    "\n",
    "\n",
    "#Specific element at specified row and column\n",
    "a[0,2]\n",
    "\n",
    "#Specific row \n",
    "a[0, : ]\n",
    "\n",
    "#Specific Column \n",
    "a[:,1]\n",
    "\n",
    "#alternative way to access\n",
    "a[0,1:-1:2]\n"
   ]
  },
  {
   "cell_type": "code",
   "execution_count": 52,
   "id": "edef8337",
   "metadata": {},
   "outputs": [
    {
     "name": "stdout",
     "output_type": "stream",
     "text": [
      "[[1 2 3 4 5 6 7 8]\n",
      " [5 6 7 8 9 0 4 5]]\n",
      "[[ 1  2  3  4  5  6  7  8]\n",
      " [ 5  6  7  8  9 50  4  5]]\n"
     ]
    }
   ],
   "source": [
    "#modifying \n",
    "\n",
    "print(a)\n",
    "a[1,5]=50\n",
    "print(a)"
   ]
  },
  {
   "cell_type": "code",
   "execution_count": 55,
   "id": "1b74493a",
   "metadata": {},
   "outputs": [
    {
     "name": "stdout",
     "output_type": "stream",
     "text": [
      "[0. 0. 0. 0. 0. 0. 0. 0. 0. 0.]\n",
      "[1. 1. 1. 1. 1. 1. 1. 1. 1. 1.]\n",
      "[0.0284944  0.01990206 0.52063563 0.75885924 0.17506724 0.75226264\n",
      " 0.91740557 0.7582443  0.04577546 0.48811069]\n"
     ]
    }
   ],
   "source": [
    "\n",
    "#Different ways to create arrays \n",
    "\n",
    "#array of zeros\n",
    "a=np.zeros(10)\n",
    "print(a)\n",
    "\n",
    "#array of zeros\n",
    "a=np.ones(10)\n",
    "print(a)\n",
    "\n",
    "#array of zeros\n",
    "a=np.random.random(10)\n",
    "print(a)\n"
   ]
  },
  {
   "cell_type": "code",
   "execution_count": 58,
   "id": "f9e777fb",
   "metadata": {},
   "outputs": [
    {
     "name": "stdout",
     "output_type": "stream",
     "text": [
      "(10,)\n"
     ]
    }
   ],
   "source": [
    "shape=a.shape\n",
    "print(shape)"
   ]
  },
  {
   "cell_type": "code",
   "execution_count": 60,
   "id": "7f14e3ad",
   "metadata": {},
   "outputs": [
    {
     "name": "stdout",
     "output_type": "stream",
     "text": [
      "1\n"
     ]
    }
   ],
   "source": [
    "dim=a.ndim\n",
    "print(dim)"
   ]
  },
  {
   "cell_type": "code",
   "execution_count": 61,
   "id": "8592cdd3",
   "metadata": {},
   "outputs": [
    {
     "name": "stdout",
     "output_type": "stream",
     "text": [
      "[[[9 9 9 9]\n",
      "  [9 9 9 9]\n",
      "  [9 9 9 9]]\n",
      "\n",
      " [[9 9 9 9]\n",
      "  [9 9 9 9]\n",
      "  [9 9 9 9]]]\n"
     ]
    }
   ],
   "source": [
    "a=np.full((2,3,4),9)\n",
    "print(a)\n"
   ]
  },
  {
   "cell_type": "code",
   "execution_count": 64,
   "id": "535ef555",
   "metadata": {},
   "outputs": [
    {
     "name": "stdout",
     "output_type": "stream",
     "text": [
      "[  0   4   8  12  16  20  24  28  32  36  40  44  48  52  56  60  64  68\n",
      "  72  76  80  84  88  92  96 100 104 108 112 116 120 124 128 132 136 140\n",
      " 144 148 152 156 160 164 168 172 176 180 184 188 192 196 200 204 208 212\n",
      " 216 220 224 228 232 236 240 244 248 252 256 260 264 268 272 276 280 284\n",
      " 288 292 296 300 304 308 312 316 320 324 328 332 336 340 344 348 352 356\n",
      " 360 364 368 372 376 380 384 388 392 396 400 404 408 412 416 420 424 428\n",
      " 432 436 440 444 448 452 456 460 464 468 472 476 480 484 488 492 496 500\n",
      " 504 508 512 516 520 524 528 532 536 540 544 548 552 556 560 564 568 572\n",
      " 576 580 584 588 592 596 600 604 608 612 616 620 624 628 632 636 640 644\n",
      " 648 652 656 660 664 668 672 676 680 684 688 692 696 700 704 708 712 716\n",
      " 720 724 728 732 736 740 744 748 752 756 760 764 768 772 776 780 784 788\n",
      " 792 796 800 804 808 812 816 820 824 828 832 836 840 844 848 852 856 860\n",
      " 864 868 872 876 880 884 888 892 896 900 904 908 912 916 920 924 928 932\n",
      " 936 940 944 948 952 956 960 964 968 972 976 980 984 988 992 996]\n"
     ]
    }
   ],
   "source": [
    "a=np.arange(0,1000,4)\n",
    "print(a)"
   ]
  },
  {
   "cell_type": "code",
   "execution_count": 65,
   "id": "0b359723",
   "metadata": {},
   "outputs": [
    {
     "name": "stdout",
     "output_type": "stream",
     "text": [
      "[   0.    1.    2. ...  998.  999. 1000.]\n"
     ]
    }
   ],
   "source": [
    "a=np.linspace(0,1000,1001)\n",
    "print(a)"
   ]
  },
  {
   "cell_type": "code",
   "execution_count": null,
   "id": "0cd98dcf",
   "metadata": {},
   "outputs": [],
   "source": []
  }
 ],
 "metadata": {
  "kernelspec": {
   "display_name": "Python 3 (ipykernel)",
   "language": "python",
   "name": "python3"
  },
  "language_info": {
   "codemirror_mode": {
    "name": "ipython",
    "version": 3
   },
   "file_extension": ".py",
   "mimetype": "text/x-python",
   "name": "python",
   "nbconvert_exporter": "python",
   "pygments_lexer": "ipython3",
   "version": "3.9.13"
  }
 },
 "nbformat": 4,
 "nbformat_minor": 5
}
